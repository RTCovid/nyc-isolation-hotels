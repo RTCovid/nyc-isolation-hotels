{
 "cells": [
  {
   "cell_type": "code",
   "execution_count": null,
   "metadata": {},
   "outputs": [],
   "source": [
    "from __future__ import print_function\n",
    "import pickle\n",
    "import os.path\n",
    "from googleapiclient.discovery import build\n",
    "from google_auth_oauthlib.flow import InstalledAppFlow\n",
    "from google.auth.transport.requests import Request\n",
    "import pandas as pd\n",
    "import gspread\n",
    "from df2gspread import df2gspread as d2g\n",
    "\n",
    "from gsheet_config import HOTEL_CENSUS_INPUT_GSHEET_ID, HOTEL_CENSUS_OUTPUT_GSHEET_ID, HOTEL_CENSUS_SHEET_NAME, HOTEL_CENSUS_SHEET_RANGE\n",
    "# gsheet_config in .gitignore for the moment"
   ]
  },
  {
   "cell_type": "markdown",
   "metadata": {},
   "source": [
    "## Integration with Google Sheets API\n",
    "\n",
    "Built from a few resources below\n",
    "* https://developers.google.com/sheets/api/quickstart/python\n",
    "* https://developers.google.com/sheets/api/guides/authorizing\n",
    "\n",
    "Note: There aren't any tokens and credentials included in this repo. Rather, `*pickle` and `*credentials.json` reference local files. Will build secure way for app to get access to these files when pushing into production."
   ]
  },
  {
   "cell_type": "code",
   "execution_count": null,
   "metadata": {},
   "outputs": [],
   "source": [
    "def get_creds(personal_acct_flg = True): \n",
    "    # personal_acct_flg arg is for dev purposes. used personal gmail acct to develop.\n",
    "    # will delete when pushing into prod\n",
    "    \n",
    "    token_filename = 'uorc_token.pickle' if personal_acct_flg is False else 'personal_token.pickle'\n",
    "    creds_filename = 'uorc_credentials.json' if personal_acct_flg is False else 'personal_credentials.json'\n",
    "    \n",
    "    SCOPES = [\n",
    "        'https://www.googleapis.com/auth/spreadsheets', #edit, create, delete, view\n",
    "        #'https://www.googleapis.com/auth/spreadsheets.readonly' # view only \n",
    "    ] \n",
    "    \n",
    "    # The file represented by variable token_filename stores the user's access and refresh tokens, and is\n",
    "    # created automatically when the authorization flow completes for the first\n",
    "    # time.\n",
    "    creds = None\n",
    "    if os.path.exists(token_filename):\n",
    "        with open(token_filename, 'rb') as token:\n",
    "            creds = pickle.load(token)\n",
    "    # If there are no (valid) credentials available, let the user log in.\n",
    "    if not creds or not creds.valid:\n",
    "        if creds and creds.expired and creds.refresh_token:\n",
    "            creds.refresh(Request())\n",
    "        else:\n",
    "            flow = InstalledAppFlow.from_client_secrets_file(\n",
    "                creds_filename, SCOPES)\n",
    "            creds = flow.run_local_server(port=0)\n",
    "        # Save the credentials for the next run\n",
    "        with open(token_filename, 'wb') as token:\n",
    "            pickle.dump(creds, token)\n",
    "    \n",
    "    return creds"
   ]
  },
  {
   "cell_type": "code",
   "execution_count": null,
   "metadata": {},
   "outputs": [],
   "source": [
    "def get_google_sheet(spreadsheet_id, sheet_range, creds):\n",
    "          \n",
    "    service = build('sheets', 'v4', credentials=creds)\n",
    "\n",
    "    # Call the Sheets API\n",
    "    g_sheet = service\\\n",
    "        .spreadsheets()\\\n",
    "        .values()\\\n",
    "        .get(spreadsheetId=spreadsheet_id, range=sheet_range).execute()\n",
    "                                \n",
    "    return g_sheet"
   ]
  },
  {
   "cell_type": "code",
   "execution_count": null,
   "metadata": {},
   "outputs": [],
   "source": [
    "def gsheet_to_df(gsheet, header_row_idx = 0):\n",
    "    \n",
    "    ws = gsheet.get('values', [])\n",
    "    if ws:\n",
    "        header = ws[header_row_idx]\n",
    "        values = ws[header_row_idx + 1:]\n",
    "        \n",
    "    df = pd.DataFrame(data=values, columns=header)\n",
    "    \n",
    "    return df"
   ]
  },
  {
   "cell_type": "code",
   "execution_count": null,
   "metadata": {},
   "outputs": [],
   "source": [
    "gsheet_creds = get_creds(False) # boolean arg is for dev purposes. used personal gmail acct to develop.\n",
    "hc_gsheet = get_google_sheet(HOTEL_CENSUS_INPUT_GSHEET_ID, HOTEL_CENSUS_SHEET_RANGE, gsheet_creds)\n",
    "hc_df = gsheet_to_df(hc_gsheet)"
   ]
  },
  {
   "cell_type": "markdown",
   "metadata": {},
   "source": [
    "## Validate input sheets\n",
    "\n",
    "For each input sheet, we will want to perform validation that the new data is populated and formatted appropriately. `validate_input_hotel_census` will perform this validation."
   ]
  },
  {
   "cell_type": "code",
   "execution_count": null,
   "metadata": {},
   "outputs": [],
   "source": [
    "def validate_input_hotel_census(df):\n",
    "    '''\n",
    "    this function will include all necessary checks to ensure input hotel census data has everything needed for dashboard.\n",
    "    \n",
    "    will add functionality as we get more data. Checks include:\n",
    "    - create primary key for each row (shift/date/hotel). \n",
    "    - can check output gsheet to see which rows are already included in output, and only perform validation on new rows\n",
    "    - each row has required columns filled\n",
    "    - each row has column values with appropriate data type.\n",
    "    - send report/email with rows that fail validation check\n",
    "    '''\n",
    "    \n",
    "    # right now fxn just returns copy of orig df. will build out soon\n",
    "    validated_df = df.copy()\n",
    "    return validated_df"
   ]
  },
  {
   "cell_type": "code",
   "execution_count": null,
   "metadata": {},
   "outputs": [],
   "source": [
    "#change"
   ]
  },
  {
   "cell_type": "code",
   "execution_count": null,
   "metadata": {},
   "outputs": [],
   "source": [
    "hc_df_validated = validate_input_hotel_census(hc_df)"
   ]
  },
  {
   "cell_type": "markdown",
   "metadata": {},
   "source": [
    "## Upload to output Google Sheet\n",
    "\n",
    "Once validation is performed, we can now upload into appropriate Google Drive to flow into dashboard.\n",
    "\n",
    "*Note:* This step is not yet working. Need to build out authorization for service account to ensure creds are valid"
   ]
  },
  {
   "cell_type": "code",
   "execution_count": null,
   "metadata": {},
   "outputs": [],
   "source": [
    "def send_to_output_gsheet(df, output_gsheet_id, output_ws_name, creds):\n",
    "    '''\n",
    "    putting in sep function to allow for validation that upload executed successfully (to be developed)\n",
    "    \n",
    "    currently not working\n",
    "    '''\n",
    "    success_upload = None\n",
    "    \n",
    "    d2g.upload(df, output_gsheet_id, output_ws_name, credentials=creds, row_names=False)\n",
    "    \n",
    "    success_upload = True\n",
    "    \n",
    "    return success_upload"
   ]
  }
 ],
 "metadata": {
  "kernelspec": {
   "display_name": "Python 3",
   "language": "python",
   "name": "python3"
  },
  "language_info": {
   "codemirror_mode": {
    "name": "ipython",
    "version": 3
   },
   "file_extension": ".py",
   "mimetype": "text/x-python",
   "name": "python",
   "nbconvert_exporter": "python",
   "pygments_lexer": "ipython3",
   "version": "3.6.5"
  }
 },
 "nbformat": 4,
 "nbformat_minor": 4
}
